{
  "nbformat": 4,
  "nbformat_minor": 0,
  "metadata": {
    "colab": {
      "provenance": [],
      "gpuType": "T4",
      "authorship_tag": "ABX9TyMEJpolSus5z/kiY1H5TPab",
      "include_colab_link": true
    },
    "kernelspec": {
      "name": "python3",
      "display_name": "Python 3"
    },
    "language_info": {
      "name": "python"
    }
  },
  "cells": [
    {
      "cell_type": "markdown",
      "metadata": {
        "id": "view-in-github",
        "colab_type": "text"
      },
      "source": [
        "<a href=\"https://colab.research.google.com/github/AnishaDevi/PyTorchFundamentals/blob/main/00_pytorch_fundamentals.ipynb\" target=\"_parent\"><img src=\"https://colab.research.google.com/assets/colab-badge.svg\" alt=\"Open In Colab\"/></a>"
      ]
    },
    {
      "cell_type": "markdown",
      "source": [
        "## 00. PyTorch Fundamentals\n",
        "\n",
        "Resource notebook: https://www.learnpytorch.io/00_pytorch_fundamentals/"
      ],
      "metadata": {
        "id": "ewn0zqfYmU6Y"
      }
    },
    {
      "cell_type": "code",
      "source": [
        "import torch\n",
        "import pandas as pd\n",
        "import numpy as np\n",
        "import matplotlib.pyplot as plt\n",
        "print(torch.__version__)"
      ],
      "metadata": {
        "colab": {
          "base_uri": "https://localhost:8080/"
        },
        "id": "00ATIaZInPrV",
        "outputId": "e081d9bd-8eab-4161-d1dc-b93fc5cf18bb"
      },
      "execution_count": null,
      "outputs": [
        {
          "output_type": "stream",
          "name": "stdout",
          "text": [
            "2.5.1+cu124\n"
          ]
        }
      ]
    },
    {
      "cell_type": "code",
      "execution_count": null,
      "metadata": {
        "colab": {
          "base_uri": "https://localhost:8080/"
        },
        "id": "ghRhdkeGiZk2",
        "outputId": "fd122539-adc0-4877-d784-29efdbaa40c1"
      },
      "outputs": [
        {
          "output_type": "stream",
          "name": "stdout",
          "text": [
            "/bin/bash: line 1: nvidia-smi: command not found\n"
          ]
        }
      ],
      "source": [
        "!nvidia-smi"
      ]
    },
    {
      "cell_type": "markdown",
      "source": [
        "## Introduction to Tensors\n",
        "\n",
        "### Creating Tensors"
      ],
      "metadata": {
        "id": "CceDHMionbeb"
      }
    },
    {
      "cell_type": "code",
      "source": [
        "#scalar\n",
        "scalar = torch.tensor(7)\n",
        "scalar"
      ],
      "metadata": {
        "colab": {
          "base_uri": "https://localhost:8080/"
        },
        "id": "U85ipcsMo2WV",
        "outputId": "6f138e86-5d42-4434-e70d-801d22d7c61d"
      },
      "execution_count": null,
      "outputs": [
        {
          "output_type": "execute_result",
          "data": {
            "text/plain": [
              "tensor(7)"
            ]
          },
          "metadata": {},
          "execution_count": 3
        }
      ]
    },
    {
      "cell_type": "code",
      "source": [
        "scalar.ndim"
      ],
      "metadata": {
        "colab": {
          "base_uri": "https://localhost:8080/"
        },
        "id": "DTrUKkqZo-mT",
        "outputId": "e05236ee-4926-42f3-8ba4-46fd78e20eb1"
      },
      "execution_count": null,
      "outputs": [
        {
          "output_type": "execute_result",
          "data": {
            "text/plain": [
              "0"
            ]
          },
          "metadata": {},
          "execution_count": 4
        }
      ]
    },
    {
      "cell_type": "code",
      "source": [
        "#Get tensorback as python int\n",
        "scalar.item()"
      ],
      "metadata": {
        "colab": {
          "base_uri": "https://localhost:8080/"
        },
        "id": "TBGyCdb_qf1r",
        "outputId": "8738da69-69b2-4940-cd14-9744eab00926"
      },
      "execution_count": null,
      "outputs": [
        {
          "output_type": "execute_result",
          "data": {
            "text/plain": [
              "7"
            ]
          },
          "metadata": {},
          "execution_count": 5
        }
      ]
    },
    {
      "cell_type": "code",
      "source": [
        "#Vector\n",
        "vector = torch.tensor([7,7])\n",
        "vector"
      ],
      "metadata": {
        "colab": {
          "base_uri": "https://localhost:8080/"
        },
        "id": "fc7Net95qrPX",
        "outputId": "2f81e5cf-cba3-42e4-bd6d-b843ac8ac392"
      },
      "execution_count": null,
      "outputs": [
        {
          "output_type": "execute_result",
          "data": {
            "text/plain": [
              "tensor([7, 7])"
            ]
          },
          "metadata": {},
          "execution_count": 6
        }
      ]
    },
    {
      "cell_type": "code",
      "source": [
        "vector.ndim #number of square brackets"
      ],
      "metadata": {
        "colab": {
          "base_uri": "https://localhost:8080/"
        },
        "id": "QT-8YCK9q70M",
        "outputId": "e90d3be0-2f41-4d5c-da8f-b60fe492b1d7"
      },
      "execution_count": null,
      "outputs": [
        {
          "output_type": "execute_result",
          "data": {
            "text/plain": [
              "1"
            ]
          },
          "metadata": {},
          "execution_count": 7
        }
      ]
    },
    {
      "cell_type": "code",
      "source": [
        "vector.shape #number of elements inside square bracket"
      ],
      "metadata": {
        "colab": {
          "base_uri": "https://localhost:8080/"
        },
        "id": "ENqC6cWXrITf",
        "outputId": "427aae7a-a9f0-4cf8-bb2a-fe8c606fd06d"
      },
      "execution_count": null,
      "outputs": [
        {
          "output_type": "execute_result",
          "data": {
            "text/plain": [
              "torch.Size([2])"
            ]
          },
          "metadata": {},
          "execution_count": 8
        }
      ]
    },
    {
      "cell_type": "code",
      "source": [
        "#MATRIX\n",
        "MATRIX = torch.tensor([[7,8],\n",
        "                       [9,8]])\n",
        "MATRIX"
      ],
      "metadata": {
        "colab": {
          "base_uri": "https://localhost:8080/"
        },
        "id": "QING83D_rQVH",
        "outputId": "728f8c6b-a84f-4114-ab60-f0add68d3b9a"
      },
      "execution_count": null,
      "outputs": [
        {
          "output_type": "execute_result",
          "data": {
            "text/plain": [
              "tensor([[7, 8],\n",
              "        [9, 8]])"
            ]
          },
          "metadata": {},
          "execution_count": 9
        }
      ]
    },
    {
      "cell_type": "code",
      "source": [
        "MATRIX.ndim"
      ],
      "metadata": {
        "colab": {
          "base_uri": "https://localhost:8080/"
        },
        "id": "amcoXf0Yr1FR",
        "outputId": "3e02b38d-bfc3-4cbc-d6f9-ef9c731d469d"
      },
      "execution_count": null,
      "outputs": [
        {
          "output_type": "execute_result",
          "data": {
            "text/plain": [
              "2"
            ]
          },
          "metadata": {},
          "execution_count": 10
        }
      ]
    },
    {
      "cell_type": "code",
      "source": [
        "MATRIX[0]"
      ],
      "metadata": {
        "colab": {
          "base_uri": "https://localhost:8080/"
        },
        "id": "K5lKCy3TsCzW",
        "outputId": "b4227d41-09a9-484a-f765-cad101457c13"
      },
      "execution_count": null,
      "outputs": [
        {
          "output_type": "execute_result",
          "data": {
            "text/plain": [
              "tensor([7, 8])"
            ]
          },
          "metadata": {},
          "execution_count": 11
        }
      ]
    },
    {
      "cell_type": "code",
      "source": [
        "MATRIX.shape"
      ],
      "metadata": {
        "colab": {
          "base_uri": "https://localhost:8080/"
        },
        "id": "k1AG9fk3rNDh",
        "outputId": "f6a37ae9-1eb9-4299-c236-84717ded8c8d"
      },
      "execution_count": null,
      "outputs": [
        {
          "output_type": "execute_result",
          "data": {
            "text/plain": [
              "torch.Size([2, 2])"
            ]
          },
          "metadata": {},
          "execution_count": 12
        }
      ]
    },
    {
      "cell_type": "code",
      "source": [
        "#TENSOR\n",
        "TENSOR = torch.tensor([[[1,2,3],\n",
        "                        [3,6,9],\n",
        "                        [2,5,4]]])\n",
        "TENSOR"
      ],
      "metadata": {
        "colab": {
          "base_uri": "https://localhost:8080/"
        },
        "id": "k7Zm-Tp7sKGt",
        "outputId": "be4e4138-c984-4917-dc06-a3fbf4d9324d"
      },
      "execution_count": null,
      "outputs": [
        {
          "output_type": "execute_result",
          "data": {
            "text/plain": [
              "tensor([[[1, 2, 3],\n",
              "         [3, 6, 9],\n",
              "         [2, 5, 4]]])"
            ]
          },
          "metadata": {},
          "execution_count": 13
        }
      ]
    },
    {
      "cell_type": "code",
      "source": [
        "TENSOR.ndim"
      ],
      "metadata": {
        "colab": {
          "base_uri": "https://localhost:8080/"
        },
        "id": "aWNMfnLas3TD",
        "outputId": "abb1cbda-9594-4970-d94e-079436ead7a6"
      },
      "execution_count": null,
      "outputs": [
        {
          "output_type": "execute_result",
          "data": {
            "text/plain": [
              "3"
            ]
          },
          "metadata": {},
          "execution_count": 14
        }
      ]
    },
    {
      "cell_type": "code",
      "source": [
        "TENSOR.shape # This output menas that we have one 3 by 3 tensor"
      ],
      "metadata": {
        "colab": {
          "base_uri": "https://localhost:8080/"
        },
        "id": "Yd6Wk9qFtAGY",
        "outputId": "a52c8864-cb68-4581-b3d0-bc677b72e6e3"
      },
      "execution_count": null,
      "outputs": [
        {
          "output_type": "execute_result",
          "data": {
            "text/plain": [
              "torch.Size([1, 3, 3])"
            ]
          },
          "metadata": {},
          "execution_count": 15
        }
      ]
    },
    {
      "cell_type": "markdown",
      "source": [
        "![image.png](data:image/png;base64,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)"
      ],
      "metadata": {
        "id": "K8R2J4HzuVJs"
      }
    },
    {
      "cell_type": "code",
      "source": [
        "TENSOR[0]"
      ],
      "metadata": {
        "colab": {
          "base_uri": "https://localhost:8080/"
        },
        "id": "KpUUR4qztB8R",
        "outputId": "7b372024-9f8f-42df-d5c5-9d42cddc0300"
      },
      "execution_count": null,
      "outputs": [
        {
          "output_type": "execute_result",
          "data": {
            "text/plain": [
              "tensor([[1, 2, 3],\n",
              "        [3, 6, 9],\n",
              "        [2, 5, 4]])"
            ]
          },
          "metadata": {},
          "execution_count": 16
        }
      ]
    },
    {
      "cell_type": "markdown",
      "source": [
        "### Random Tensors\n",
        "\n",
        "Why random tensors?\n",
        "\n",
        "Random tensors are important because the way many neural networks learn is that they start with full of random numbersand then adjust those random numbers to better represent number.\n",
        "\n",
        "`Start with random numbers -> look at data -> update random numbers -> look at data -> update random numbers`\n",
        "\n",
        "Reference - https://pytorch.org/docs/stable/generated/torch.rand.html"
      ],
      "metadata": {
        "id": "adn-L9_w2xeS"
      }
    },
    {
      "cell_type": "code",
      "source": [
        "#Create a random tensor of size (3, 4)\n",
        "random_tensor = torch.rand(3, 4)\n",
        "random_tensor"
      ],
      "metadata": {
        "id": "B9_2CQy2tOHF",
        "colab": {
          "base_uri": "https://localhost:8080/"
        },
        "outputId": "5ae60dcc-482e-430b-993b-1548ec647e0b"
      },
      "execution_count": null,
      "outputs": [
        {
          "output_type": "execute_result",
          "data": {
            "text/plain": [
              "tensor([[0.9851, 0.0251, 0.7005, 0.0742],\n",
              "        [0.4386, 0.7840, 0.7223, 0.3750],\n",
              "        [0.1047, 0.8860, 0.2384, 0.3786]])"
            ]
          },
          "metadata": {},
          "execution_count": 17
        }
      ]
    },
    {
      "cell_type": "code",
      "source": [
        "random_tensor1 = torch.rand(7,7,5)\n",
        "random_tensor1"
      ],
      "metadata": {
        "colab": {
          "base_uri": "https://localhost:8080/"
        },
        "id": "Wii_vAWp6Qsq",
        "outputId": "3f881ef3-564f-465c-b637-0a307242f8e8"
      },
      "execution_count": null,
      "outputs": [
        {
          "output_type": "execute_result",
          "data": {
            "text/plain": [
              "tensor([[[0.8369, 0.9363, 0.9639, 0.8879, 0.5225],\n",
              "         [0.3206, 0.9421, 0.8574, 0.9265, 0.5157],\n",
              "         [0.3205, 0.2330, 0.8277, 0.3757, 0.8129],\n",
              "         [0.0474, 0.5485, 0.0813, 0.7236, 0.4254],\n",
              "         [0.2407, 0.1541, 0.5236, 0.5831, 0.6227],\n",
              "         [0.6005, 0.9980, 0.6185, 0.8271, 0.1683],\n",
              "         [0.5223, 0.5490, 0.7449, 0.5135, 0.6703]],\n",
              "\n",
              "        [[0.0051, 0.8012, 0.2828, 0.6854, 0.9693],\n",
              "         [0.3686, 0.3436, 0.2923, 0.8335, 0.2623],\n",
              "         [0.4958, 0.7264, 0.2165, 0.8520, 0.6008],\n",
              "         [0.3071, 0.4130, 0.6212, 0.4365, 0.2380],\n",
              "         [0.0219, 0.3744, 0.0299, 0.5894, 0.6654],\n",
              "         [0.6188, 0.7982, 0.0388, 0.9334, 0.0395],\n",
              "         [0.1531, 0.9406, 0.9898, 0.8829, 0.0449]],\n",
              "\n",
              "        [[0.1335, 0.5160, 0.2440, 0.6243, 0.0852],\n",
              "         [0.7278, 0.4911, 0.6217, 0.0727, 0.9467],\n",
              "         [0.7199, 0.8451, 0.7758, 0.2311, 0.5341],\n",
              "         [0.6995, 0.8783, 0.1274, 0.7296, 0.5629],\n",
              "         [0.1791, 0.6822, 0.6990, 0.6956, 0.2817],\n",
              "         [0.5087, 0.4212, 0.4322, 0.7136, 0.8095],\n",
              "         [0.5270, 0.3365, 0.1312, 0.2319, 0.3861]],\n",
              "\n",
              "        [[0.1797, 0.2009, 0.5084, 0.5829, 0.3092],\n",
              "         [0.0389, 0.9082, 0.6793, 0.6748, 0.9204],\n",
              "         [0.2972, 0.7935, 0.1868, 0.5612, 0.5345],\n",
              "         [0.8367, 0.4967, 0.7235, 0.6760, 0.6036],\n",
              "         [0.2565, 0.0571, 0.0163, 0.4653, 0.2304],\n",
              "         [0.5510, 0.6975, 0.5512, 0.7749, 0.5728],\n",
              "         [0.4973, 0.7260, 0.5376, 0.6703, 0.6410]],\n",
              "\n",
              "        [[0.5849, 0.3276, 0.5340, 0.9736, 0.0560],\n",
              "         [0.5120, 0.8744, 0.1914, 0.2853, 0.0266],\n",
              "         [0.5907, 0.4948, 0.3688, 0.3775, 0.0910],\n",
              "         [0.3238, 0.8294, 0.6776, 0.2277, 0.2500],\n",
              "         [0.5660, 0.1892, 0.6779, 0.0279, 0.2836],\n",
              "         [0.3578, 0.1277, 0.3838, 0.0577, 0.4504],\n",
              "         [0.3622, 0.3702, 0.8738, 0.2429, 0.1564]],\n",
              "\n",
              "        [[0.4461, 0.1373, 0.6958, 0.9606, 0.5122],\n",
              "         [0.0125, 0.5231, 0.6846, 0.3054, 0.7413],\n",
              "         [0.9846, 0.4461, 0.1256, 0.0700, 0.7504],\n",
              "         [0.3277, 0.5939, 0.2730, 0.1611, 0.0304],\n",
              "         [0.7387, 0.7544, 0.8002, 0.6046, 0.1089],\n",
              "         [0.5862, 0.9288, 0.8997, 0.8904, 0.9952],\n",
              "         [0.9929, 0.7256, 0.6672, 0.9816, 0.7522]],\n",
              "\n",
              "        [[0.4972, 0.5851, 0.1470, 0.5845, 0.0509],\n",
              "         [0.9682, 0.4750, 0.6340, 0.3254, 0.0483],\n",
              "         [0.8666, 0.3306, 0.9198, 0.7268, 0.9874],\n",
              "         [0.6260, 0.4029, 0.3393, 0.0618, 0.4459],\n",
              "         [0.1479, 0.7698, 0.2517, 0.0485, 0.1830],\n",
              "         [0.5061, 0.4941, 0.7628, 0.6513, 0.4112],\n",
              "         [0.0464, 0.3985, 0.6373, 0.0320, 0.8186]]])"
            ]
          },
          "metadata": {},
          "execution_count": 18
        }
      ]
    },
    {
      "cell_type": "code",
      "source": [
        "#Create a random tensor with similar shape to an image tensor\n",
        "random_image_size_tensor =  torch.rand(size = (224, 224, 3)) #height, width, color channels (R, G, B)\n",
        "random_image_size_tensor.ndim , random_image_size_tensor.shape"
      ],
      "metadata": {
        "colab": {
          "base_uri": "https://localhost:8080/"
        },
        "id": "pGqgAZTF4fca",
        "outputId": "e3c53347-7440-47b5-e030-1555a283bba5"
      },
      "execution_count": null,
      "outputs": [
        {
          "output_type": "execute_result",
          "data": {
            "text/plain": [
              "(3, torch.Size([224, 224, 3]))"
            ]
          },
          "metadata": {},
          "execution_count": 19
        }
      ]
    },
    {
      "cell_type": "markdown",
      "source": [
        "## Zeros and Ones"
      ],
      "metadata": {
        "id": "-XGHMluo-GGG"
      }
    },
    {
      "cell_type": "code",
      "source": [
        "#Create tensor of all zeros\n",
        "tensor_with_zeros = torch.zeros(3,4)\n",
        "tensor_with_zeros"
      ],
      "metadata": {
        "colab": {
          "base_uri": "https://localhost:8080/"
        },
        "id": "lA5v4gq15puE",
        "outputId": "5e9416de-f75d-455e-e737-747be1b636bd"
      },
      "execution_count": null,
      "outputs": [
        {
          "output_type": "execute_result",
          "data": {
            "text/plain": [
              "tensor([[0., 0., 0., 0.],\n",
              "        [0., 0., 0., 0.],\n",
              "        [0., 0., 0., 0.]])"
            ]
          },
          "metadata": {},
          "execution_count": 20
        }
      ]
    },
    {
      "cell_type": "code",
      "source": [
        "#Create tensor of all ones\n",
        "tensor_with_ones = torch.ones(5,5)\n",
        "tensor_with_ones"
      ],
      "metadata": {
        "colab": {
          "base_uri": "https://localhost:8080/"
        },
        "id": "YbhPSgrI-zbv",
        "outputId": "d9f49bcd-9fde-48a7-918c-5fddc85140c0"
      },
      "execution_count": null,
      "outputs": [
        {
          "output_type": "execute_result",
          "data": {
            "text/plain": [
              "tensor([[1., 1., 1., 1., 1.],\n",
              "        [1., 1., 1., 1., 1.],\n",
              "        [1., 1., 1., 1., 1.],\n",
              "        [1., 1., 1., 1., 1.],\n",
              "        [1., 1., 1., 1., 1.]])"
            ]
          },
          "metadata": {},
          "execution_count": 21
        }
      ]
    },
    {
      "cell_type": "code",
      "source": [
        "tensor_with_ones.dtype"
      ],
      "metadata": {
        "colab": {
          "base_uri": "https://localhost:8080/"
        },
        "id": "AMlUE0nX_Kfq",
        "outputId": "f7f9b41a-980d-4109-eb02-3bcc95f64a93"
      },
      "execution_count": null,
      "outputs": [
        {
          "output_type": "execute_result",
          "data": {
            "text/plain": [
              "torch.float32"
            ]
          },
          "metadata": {},
          "execution_count": 22
        }
      ]
    },
    {
      "cell_type": "markdown",
      "source": [
        "## Creating the range of tensors and tensor-like"
      ],
      "metadata": {
        "id": "cftCUhGS_n28"
      }
    },
    {
      "cell_type": "code",
      "source": [
        "#If we se torch.range() it will show deprecated therefore use torch.arange()\n",
        "one_to_ten = torch.arange(start = 1, end = 11, step = 1)\n",
        "one_to_ten"
      ],
      "metadata": {
        "colab": {
          "base_uri": "https://localhost:8080/"
        },
        "id": "0Xo2317I_VjJ",
        "outputId": "505ac58b-ee80-439d-b13e-6d2adf00f08e"
      },
      "execution_count": null,
      "outputs": [
        {
          "output_type": "execute_result",
          "data": {
            "text/plain": [
              "tensor([ 1,  2,  3,  4,  5,  6,  7,  8,  9, 10])"
            ]
          },
          "metadata": {},
          "execution_count": 23
        }
      ]
    },
    {
      "cell_type": "code",
      "source": [
        "#Creating tensor like\n",
        "ten_zeros = torch.zeros_like(one_to_ten)\n",
        "ten_zeros"
      ],
      "metadata": {
        "colab": {
          "base_uri": "https://localhost:8080/"
        },
        "id": "RdI17XjS_1j8",
        "outputId": "df9fde7f-83ca-4f30-f22d-a490a3be558f"
      },
      "execution_count": null,
      "outputs": [
        {
          "output_type": "execute_result",
          "data": {
            "text/plain": [
              "tensor([0, 0, 0, 0, 0, 0, 0, 0, 0, 0])"
            ]
          },
          "metadata": {},
          "execution_count": 24
        }
      ]
    },
    {
      "cell_type": "markdown",
      "source": [
        "### Tensor datatype\n",
        "\n",
        "**Note:!** Tensor datatype is one of the 3 big errors we will run into with PyTorch & Deep Learning:\n",
        "1. Tensor not right datatype\n",
        "2. Tensor not right shape\n",
        "3. Tensor not on right device"
      ],
      "metadata": {
        "id": "7gj2MUnqBan_"
      }
    },
    {
      "cell_type": "code",
      "source": [
        "#Float 32 tensor\n",
        "float_32_tensor = torch.tensor([3.0, 6.0, 9.0],\n",
        "                               dtype = None,\n",
        "                               device = None, #what device is your tensor on\n",
        "                               requires_grad = False)#whether or not track gradients with this tensors operations\n",
        "float_32_tensor.dtype"
      ],
      "metadata": {
        "colab": {
          "base_uri": "https://localhost:8080/"
        },
        "id": "oSDC2XqLAy7V",
        "outputId": "0e3de29c-7678-46f0-a399-3276e1bff9a4"
      },
      "execution_count": null,
      "outputs": [
        {
          "output_type": "execute_result",
          "data": {
            "text/plain": [
              "torch.float32"
            ]
          },
          "metadata": {},
          "execution_count": 25
        }
      ]
    },
    {
      "cell_type": "code",
      "source": [
        "float_16_tensor = float_32_tensor.type(torch.float16)\n",
        "float_16_tensor.dtype"
      ],
      "metadata": {
        "colab": {
          "base_uri": "https://localhost:8080/"
        },
        "id": "YSi4iVVzBxzC",
        "outputId": "bff794c2-3ccc-4c4f-fd3b-b38c3c1ec30d"
      },
      "execution_count": null,
      "outputs": [
        {
          "output_type": "execute_result",
          "data": {
            "text/plain": [
              "torch.float16"
            ]
          },
          "metadata": {},
          "execution_count": 26
        }
      ]
    },
    {
      "cell_type": "code",
      "source": [
        "diff_float_dtype_mult = float_16_tensor * float_32_tensor #for some operations it automatically changes but for som like training large neural networks it causes errors\n",
        "diff_float_dtype_mult.dtype"
      ],
      "metadata": {
        "colab": {
          "base_uri": "https://localhost:8080/"
        },
        "id": "a6W8fOW5FoeQ",
        "outputId": "d16d792a-e7ed-4d3e-f69a-f1294dc1c6b8"
      },
      "execution_count": null,
      "outputs": [
        {
          "output_type": "execute_result",
          "data": {
            "text/plain": [
              "torch.float32"
            ]
          },
          "metadata": {},
          "execution_count": 27
        }
      ]
    },
    {
      "cell_type": "markdown",
      "source": [
        "### Getting informationfrom tensors\n",
        "\n",
        "1. Tensor not in right datatype - to do get datatype from a tensor, can use 'tensor.dtype'\n",
        "2. Tensor not right shape - to get shape from a tensor, can use 'tensor.shape'\n",
        "3. Tensor not on the right device - to get device from a tensor, can use 'tensor.device'"
      ],
      "metadata": {
        "id": "UL2K2jBzJHVc"
      }
    },
    {
      "cell_type": "code",
      "source": [
        "#Create a tensor\n",
        "tensor1 = torch.rand(3, 4)\n",
        "tensor1"
      ],
      "metadata": {
        "id": "TLE649bwF2Mh",
        "colab": {
          "base_uri": "https://localhost:8080/"
        },
        "outputId": "8437fc57-5df4-43aa-e48b-46a82947fe14"
      },
      "execution_count": null,
      "outputs": [
        {
          "output_type": "execute_result",
          "data": {
            "text/plain": [
              "tensor([[0.1450, 0.5127, 0.8706, 0.9230],\n",
              "        [0.7644, 0.0493, 0.1999, 0.6587],\n",
              "        [0.9464, 0.3507, 0.1902, 0.3325]])"
            ]
          },
          "metadata": {},
          "execution_count": 28
        }
      ]
    },
    {
      "cell_type": "code",
      "source": [
        "#Find out the details\n",
        "print(tensor1)\n",
        "print(f\"Datatype of tensor1: {tensor1.dtype}\")\n",
        "print(f\"Shape of tensor1: {tensor1.shape}\")\n",
        "print(f\"Device tensor1 is on: {tensor1.device}\")"
      ],
      "metadata": {
        "colab": {
          "base_uri": "https://localhost:8080/"
        },
        "id": "OTpKtBVzKFHt",
        "outputId": "5ce72cd8-1aca-4cfb-e2e7-6b57eed4a1d6"
      },
      "execution_count": null,
      "outputs": [
        {
          "output_type": "stream",
          "name": "stdout",
          "text": [
            "tensor([[0.1450, 0.5127, 0.8706, 0.9230],\n",
            "        [0.7644, 0.0493, 0.1999, 0.6587],\n",
            "        [0.9464, 0.3507, 0.1902, 0.3325]])\n",
            "Datatype of tensor1: torch.float32\n",
            "Shape of tensor1: torch.Size([3, 4])\n",
            "Device tensor1 is on: cpu\n"
          ]
        }
      ]
    },
    {
      "cell_type": "markdown",
      "source": [
        "### Manipulating Tensors(Tensor Operations)\n",
        "\n",
        "Tensor Operations include:\n",
        "* Addition\n",
        "* Subtraction\n",
        "* Multiplication(element-wise)\n",
        "* Division\n",
        "* Matrix Multiplication"
      ],
      "metadata": {
        "id": "Wry2sz0Jbdl-"
      }
    },
    {
      "cell_type": "code",
      "source": [
        "#Create a tensor\n",
        "tensor2 = torch.tensor([1, 2, 3])\n",
        "tensor2 + 10"
      ],
      "metadata": {
        "colab": {
          "base_uri": "https://localhost:8080/"
        },
        "id": "WbAvRefRdhJv",
        "outputId": "3b2f1398-f6cb-4cd6-d63f-0a545485c1b6"
      },
      "execution_count": null,
      "outputs": [
        {
          "output_type": "execute_result",
          "data": {
            "text/plain": [
              "tensor([11, 12, 13])"
            ]
          },
          "metadata": {},
          "execution_count": 30
        }
      ]
    },
    {
      "cell_type": "code",
      "source": [
        "tensor2 * 10"
      ],
      "metadata": {
        "colab": {
          "base_uri": "https://localhost:8080/"
        },
        "id": "zYp9jtgRec1n",
        "outputId": "46802cf1-ed18-4659-c59f-384e4d76cf38"
      },
      "execution_count": null,
      "outputs": [
        {
          "output_type": "execute_result",
          "data": {
            "text/plain": [
              "tensor([10, 20, 30])"
            ]
          },
          "metadata": {},
          "execution_count": 31
        }
      ]
    },
    {
      "cell_type": "code",
      "source": [
        "tensor2 - 10"
      ],
      "metadata": {
        "colab": {
          "base_uri": "https://localhost:8080/"
        },
        "id": "wAemVMQDeaRN",
        "outputId": "34c2e156-e06d-4590-cfd3-fee070bd8ad2"
      },
      "execution_count": null,
      "outputs": [
        {
          "output_type": "execute_result",
          "data": {
            "text/plain": [
              "tensor([-9, -8, -7])"
            ]
          },
          "metadata": {},
          "execution_count": 32
        }
      ]
    },
    {
      "cell_type": "code",
      "source": [
        "# Try out PyTorch inbuilt functions\n",
        "\n",
        "torch.mul(tensor2, 10)\n"
      ],
      "metadata": {
        "colab": {
          "base_uri": "https://localhost:8080/"
        },
        "id": "eAGwLU9sfBTp",
        "outputId": "a105c942-d1a8-41c7-962d-cfc90efc1acd"
      },
      "execution_count": null,
      "outputs": [
        {
          "output_type": "execute_result",
          "data": {
            "text/plain": [
              "tensor([10, 20, 30])"
            ]
          },
          "metadata": {},
          "execution_count": 33
        }
      ]
    },
    {
      "cell_type": "markdown",
      "source": [
        "### Matrix Multiplication\n",
        "\n",
        "Two main ways of performing multiplication in neural networks and deep learning\n",
        "\n",
        "1. Element-wise Multiplication\n",
        "2. Matrix Multiplication(dot product)\n",
        "\n"
      ],
      "metadata": {
        "id": "jvdikcL0fOiF"
      }
    },
    {
      "cell_type": "code",
      "source": [
        "#Element-wise multiplication\n",
        "\n",
        "print(tensor2, '*', tensor2, '=', tensor2 * tensor2)"
      ],
      "metadata": {
        "colab": {
          "base_uri": "https://localhost:8080/"
        },
        "id": "rQHTVgyfjLAM",
        "outputId": "6857355e-5c9e-44f4-faca-c0161f2c2ab2"
      },
      "execution_count": null,
      "outputs": [
        {
          "output_type": "stream",
          "name": "stdout",
          "text": [
            "tensor([1, 2, 3]) * tensor([1, 2, 3]) = tensor([1, 4, 9])\n"
          ]
        }
      ]
    },
    {
      "cell_type": "code",
      "source": [
        "# Matrix Multiplication\n",
        "\n",
        "torch.matmul(tensor2,tensor2)"
      ],
      "metadata": {
        "id": "Ubv-PdH8jyHX",
        "colab": {
          "base_uri": "https://localhost:8080/"
        },
        "outputId": "9b9b8c58-f6f4-4164-cdc0-43806e80a41a"
      },
      "execution_count": null,
      "outputs": [
        {
          "output_type": "execute_result",
          "data": {
            "text/plain": [
              "tensor(14)"
            ]
          },
          "metadata": {},
          "execution_count": 37
        }
      ]
    },
    {
      "cell_type": "code",
      "source": [
        "%%time\n",
        "value = 0\n",
        "for i in range(len(tensor2)):\n",
        "  value += tensor2[i] * tensor2[i]\n",
        "\n",
        "print(value)"
      ],
      "metadata": {
        "colab": {
          "base_uri": "https://localhost:8080/"
        },
        "id": "lZx5CbQNdRcK",
        "outputId": "36371dd8-d511-4d59-8436-034186e832a7"
      },
      "execution_count": null,
      "outputs": [
        {
          "output_type": "stream",
          "name": "stdout",
          "text": [
            "tensor(14)\n",
            "CPU times: user 6.53 ms, sys: 0 ns, total: 6.53 ms\n",
            "Wall time: 6.12 ms\n"
          ]
        }
      ]
    },
    {
      "cell_type": "code",
      "source": [
        "%%time\n",
        "torch.matmul(tensor2, tensor2)"
      ],
      "metadata": {
        "colab": {
          "base_uri": "https://localhost:8080/"
        },
        "id": "Kef3GcMreuIa",
        "outputId": "8c0d9a96-44a5-4833-bcd6-d9ac7ec3fbed"
      },
      "execution_count": null,
      "outputs": [
        {
          "output_type": "stream",
          "name": "stdout",
          "text": [
            "CPU times: user 865 µs, sys: 0 ns, total: 865 µs\n",
            "Wall time: 552 µs\n"
          ]
        },
        {
          "output_type": "execute_result",
          "data": {
            "text/plain": [
              "tensor(14)"
            ]
          },
          "metadata": {},
          "execution_count": 39
        }
      ]
    },
    {
      "cell_type": "markdown",
      "source": [
        "## Some of the errors with shape while using matrix multiplication"
      ],
      "metadata": {
        "id": "mYAAr8aoktO7"
      }
    },
    {
      "cell_type": "code",
      "source": [
        "#Shapes for matrix multiplication\n",
        "tensor_A = torch.tensor([[1, 2],\n",
        "                         [3, 4],\n",
        "                         [5, 6]])\n",
        "tensor_B = torch.tensor([[7, 10],\n",
        "                         [8, 11],\n",
        "                         [9, 12]])\n",
        "#tensor.mm() same as tensor.matmul()\n",
        "torch.matmul(tensor_A, tensor_B)"
      ],
      "metadata": {
        "colab": {
          "base_uri": "https://localhost:8080/",
          "height": 182
        },
        "id": "fwgI8HKFe2nl",
        "outputId": "eca226f3-06ea-496a-fc72-78a2dd23521b"
      },
      "execution_count": null,
      "outputs": [
        {
          "output_type": "error",
          "ename": "RuntimeError",
          "evalue": "mat1 and mat2 shapes cannot be multiplied (3x2 and 3x2)",
          "traceback": [
            "\u001b[0;31m---------------------------------------------------------------------------\u001b[0m",
            "\u001b[0;31mRuntimeError\u001b[0m                              Traceback (most recent call last)",
            "\u001b[0;32m<ipython-input-43-329e79aed59d>\u001b[0m in \u001b[0;36m<cell line: 0>\u001b[0;34m()\u001b[0m\n\u001b[1;32m      7\u001b[0m                          [9, 12]])\n\u001b[1;32m      8\u001b[0m \u001b[0;31m#tensor.mm() same as tensor.matmul()\u001b[0m\u001b[0;34m\u001b[0m\u001b[0;34m\u001b[0m\u001b[0m\n\u001b[0;32m----> 9\u001b[0;31m \u001b[0mtorch\u001b[0m\u001b[0;34m.\u001b[0m\u001b[0mmatmul\u001b[0m\u001b[0;34m(\u001b[0m\u001b[0mtensor_A\u001b[0m\u001b[0;34m,\u001b[0m \u001b[0mtensor_B\u001b[0m\u001b[0;34m)\u001b[0m\u001b[0;34m\u001b[0m\u001b[0;34m\u001b[0m\u001b[0m\n\u001b[0m",
            "\u001b[0;31mRuntimeError\u001b[0m: mat1 and mat2 shapes cannot be multiplied (3x2 and 3x2)"
          ]
        }
      ]
    },
    {
      "cell_type": "markdown",
      "source": [
        "##To fix out the tensor shape issues we take transpose of the **matrix**\n"
      ],
      "metadata": {
        "id": "uJBLIFJGkPnX"
      }
    },
    {
      "cell_type": "code",
      "source": [
        "tensor_B , tensor_B.T"
      ],
      "metadata": {
        "colab": {
          "base_uri": "https://localhost:8080/"
        },
        "id": "OZ-BNKAhk_ZQ",
        "outputId": "7f258be9-77f7-4a6e-fb52-ecae78c745a3"
      },
      "execution_count": null,
      "outputs": [
        {
          "output_type": "execute_result",
          "data": {
            "text/plain": [
              "(tensor([[ 7, 10],\n",
              "         [ 8, 11],\n",
              "         [ 9, 12]]),\n",
              " tensor([[ 7,  8,  9],\n",
              "         [10, 11, 12]]))"
            ]
          },
          "metadata": {},
          "execution_count": 44
        }
      ]
    },
    {
      "cell_type": "code",
      "source": [
        "#Matrix multiplication works when tensor_B is transposed\n",
        "print(f\"Original shapes: tensor_A = {tensor_A.shape}, tensor_B = {tensor_B.shape}\")\n",
        "print(f\"New shapes: tensor_A = {tensor_A.shape}(same shape as above), tensor_B.T = {tensor_B.T.shape}\")\n",
        "print(f\"Multiplying: {tensor_A.shape} @ {tensor_B.T.shape} <- inner dimension must match\")\n",
        "print(\"Output:\\n\")\n",
        "\n",
        "output = torch.matmul(tensor_A , tensor_B.T)\n",
        "print(output)\n",
        "print(f\"\\nOutput shape : {output.shape}\")"
      ],
      "metadata": {
        "colab": {
          "base_uri": "https://localhost:8080/"
        },
        "id": "T1kK9rValJpe",
        "outputId": "d6440317-0a33-48a2-b7f7-5408c40f937a"
      },
      "execution_count": null,
      "outputs": [
        {
          "output_type": "stream",
          "name": "stdout",
          "text": [
            "Original shapes: tensor_A = torch.Size([3, 2]), tensor_B = torch.Size([3, 2])\n",
            "New shapes: tensor_A = torch.Size([3, 2])(same shape as above), tensor_B.T = torch.Size([2, 3])\n",
            "Multiplying: torch.Size([3, 2]) @ torch.Size([2, 3]) <- inner dimension must match\n",
            "Output:\n",
            "\n",
            "tensor([[ 27,  30,  33],\n",
            "        [ 61,  68,  75],\n",
            "        [ 95, 106, 117]])\n",
            "\n",
            "Output shape : torch.Size([3, 3])\n"
          ]
        }
      ]
    },
    {
      "cell_type": "markdown",
      "source": [
        "## Finding min, max, mean, sum, etc (tensor aggregation)"
      ],
      "metadata": {
        "id": "FuK_x4DjmwKo"
      }
    },
    {
      "cell_type": "code",
      "source": [
        "#Create a tensor\n",
        "x = torch.arange(0, 100, 10)\n",
        "x"
      ],
      "metadata": {
        "colab": {
          "base_uri": "https://localhost:8080/"
        },
        "id": "yQqLroKUnTRB",
        "outputId": "85772f6a-2e67-47d1-b2ca-ef2dbfa0ff37"
      },
      "execution_count": null,
      "outputs": [
        {
          "output_type": "execute_result",
          "data": {
            "text/plain": [
              "tensor([ 0, 10, 20, 30, 40, 50, 60, 70, 80, 90])"
            ]
          },
          "metadata": {},
          "execution_count": 47
        }
      ]
    },
    {
      "cell_type": "code",
      "source": [
        "#Find min\n",
        "torch.min(x)"
      ],
      "metadata": {
        "colab": {
          "base_uri": "https://localhost:8080/"
        },
        "id": "pAfODswbnhsL",
        "outputId": "fdc43aac-36a9-4328-c45a-9507a08bde34"
      },
      "execution_count": null,
      "outputs": [
        {
          "output_type": "execute_result",
          "data": {
            "text/plain": [
              "tensor(0)"
            ]
          },
          "metadata": {},
          "execution_count": 48
        }
      ]
    },
    {
      "cell_type": "code",
      "source": [
        "#Find max\n",
        "torch.max(x)"
      ],
      "metadata": {
        "colab": {
          "base_uri": "https://localhost:8080/"
        },
        "id": "SIkBRwQjnqAb",
        "outputId": "bdad9e5f-9b10-4928-90e2-cc215aa30527"
      },
      "execution_count": null,
      "outputs": [
        {
          "output_type": "execute_result",
          "data": {
            "text/plain": [
              "tensor(90)"
            ]
          },
          "metadata": {},
          "execution_count": 49
        }
      ]
    },
    {
      "cell_type": "code",
      "source": [
        "#Find the mean - note: the torch.mean() requires a tensor of float32 datatype\n",
        "torch.mean(x.type(torch.float32))"
      ],
      "metadata": {
        "colab": {
          "base_uri": "https://localhost:8080/"
        },
        "id": "mTQC7KBlnyat",
        "outputId": "1711651e-ba58-4fe4-97d4-81aae912957d"
      },
      "execution_count": null,
      "outputs": [
        {
          "output_type": "execute_result",
          "data": {
            "text/plain": [
              "tensor(45.)"
            ]
          },
          "metadata": {},
          "execution_count": 54
        }
      ]
    },
    {
      "cell_type": "code",
      "source": [],
      "metadata": {
        "id": "15dCncg0oeK2"
      },
      "execution_count": null,
      "outputs": []
    }
  ]
}